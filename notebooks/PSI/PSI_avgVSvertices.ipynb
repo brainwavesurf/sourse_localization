{
 "cells": [
  {
   "cell_type": "markdown",
   "metadata": {},
   "source": [
    "### Comparison of PSI values between two approaches: average of time courses from all vertices in V1 and MT, and stcs with V1 and MT label extraction as input to spectral connectivity computation."
   ]
  },
  {
   "cell_type": "markdown",
   "metadata": {},
   "source": [
    "#### Two time courses averaged over V1 and MT labels. Output is 1 value of PSI for frequency range of 8-15 Hz. "
   ]
  },
  {
   "cell_type": "markdown",
   "metadata": {},
   "source": [
    "![](v1_mt_avg.png)"
   ]
  },
  {
   "cell_type": "markdown",
   "metadata": {},
   "source": [
    "#### Stsc with all V1 and MT vertices exctration. Output is 4320x1 array with PSI values for frequency range of 8-15 Hz for every pair of vertices. Average performed after connectivity computation."
   ]
  },
  {
   "cell_type": "markdown",
   "metadata": {},
   "source": [
    "![](all_v1_mt_vertices_fast_fastepo.png)"
   ]
  }
 ],
 "metadata": {
  "kernelspec": {
   "display_name": "Python 3",
   "language": "python",
   "name": "python3"
  },
  "language_info": {
   "codemirror_mode": {
    "name": "ipython",
    "version": 3
   },
   "file_extension": ".py",
   "mimetype": "text/x-python",
   "name": "python",
   "nbconvert_exporter": "python",
   "pygments_lexer": "ipython3",
   "version": "3.7.7"
  }
 },
 "nbformat": 4,
 "nbformat_minor": 4
}
