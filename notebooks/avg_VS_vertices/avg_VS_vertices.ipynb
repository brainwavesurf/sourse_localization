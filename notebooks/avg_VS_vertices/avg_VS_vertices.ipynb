{
 "cells": [
  {
   "cell_type": "markdown",
   "metadata": {},
   "source": [
    "### Comparison of wpli2_debiased values between two approaches: average of time courses from all vertices in V1 and MT, and stcs with V1 and MT label extraction as input to spectral connectivity computation."
   ]
  },
  {
   "cell_type": "markdown",
   "metadata": {},
   "source": [
    "#### Two time courses averaged over V1 and MT labels. Output is 1x35 array with WPLI2_debiased values for each frequency in a range of 2-40 Hz. "
   ]
  },
  {
   "cell_type": "markdown",
   "metadata": {},
   "source": [
    "![](all_v1_mt_avg_allepo.png)"
   ]
  },
  {
   "cell_type": "markdown",
   "metadata": {},
   "source": [
    "#### Stsc with all V1 and MT vertices exctration. Output is 4320x35 array with WPLI2_debiased values for each frequency in a range of 2-40 Hz for every pair of vertices. Average performed after connectivity computation."
   ]
  },
  {
   "cell_type": "markdown",
   "metadata": {},
   "source": [
    "![](all_v1_mt_vertices_fast_allepo.png)"
   ]
  },
  {
   "cell_type": "markdown",
   "metadata": {},
   "source": [
    "#### Slow epochs"
   ]
  },
  {
   "cell_type": "markdown",
   "metadata": {},
   "source": [
    "avg time courses | all vertices time courses\n",
    "- | -\n",
    "![alt](all_v1_mt_avg_slow.png) | ![alt](all_v1_mt_vertices_fast_slowepo.png)"
   ]
  },
  {
   "cell_type": "markdown",
   "metadata": {},
   "source": [
    "#### Fast epochs"
   ]
  },
  {
   "cell_type": "markdown",
   "metadata": {},
   "source": [
    "avg time courses | all vertices time courses\n",
    "- | -\n",
    "![alt](all_v1_mt_avg_fast.png) | ![alt](all_v1_mt_vertices_fast_fastepo.png)"
   ]
  },
  {
   "cell_type": "markdown",
   "metadata": {},
   "source": []
  }
 ],
 "metadata": {
  "kernelspec": {
   "display_name": "Python 3",
   "language": "python",
   "name": "python3"
  },
  "language_info": {
   "codemirror_mode": {
    "name": "ipython",
    "version": 3
   },
   "file_extension": ".py",
   "mimetype": "text/x-python",
   "name": "python",
   "nbconvert_exporter": "python",
   "pygments_lexer": "ipython3",
   "version": "3.7.7"
  }
 },
 "nbformat": 4,
 "nbformat_minor": 4
}
