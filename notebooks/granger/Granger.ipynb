{
 "cells": [
  {
   "cell_type": "markdown",
   "metadata": {},
   "source": [
    "## Granger Causality Value between V1 and MT averaged time courses for ASD and NT"
   ]
  },
  {
   "cell_type": "markdown",
   "metadata": {},
   "source": [
    "NT | ASD\n",
    "- | -\n",
    "![alt](all_v1_mt_avg_new_package_nt.png) | ![alt](all_v1_mt_avg_new_package_asd.png)"
   ]
  },
  {
   "cell_type": "markdown",
   "metadata": {},
   "source": [
    "## Granger Causality Value between V1 and V4 averaged time courses for ASD and NT"
   ]
  },
  {
   "cell_type": "markdown",
   "metadata": {},
   "source": [
    "NT | ASD\n",
    "- | -\n",
    "![alt](all_v1_v4_avg_new_package_nt.png) | ![alt](all_v1_v4_avg_new_package_asd.png)"
   ]
  },
  {
   "cell_type": "markdown",
   "metadata": {},
   "source": [
    "## Granger Causality Value between V1 and MT all vertices time courses for ASD and NT"
   ]
  },
  {
   "cell_type": "markdown",
   "metadata": {},
   "source": [
    "NT | ASD\n",
    "- | -\n",
    "![alt](all_v1_mt_nt_vertices.png) | ![alt](all_v1_mt_asd_vertices.png)"
   ]
  },
  {
   "cell_type": "markdown",
   "metadata": {},
   "source": [
    "## Directed Asymmetry Index between NT and ASD for V1-MT connectivity between all vertices time courses \n",
    "#### DAI > 0 indicates feedforward Granger causality influence and values < 0 indicate feedback influence"
   ]
  },
  {
   "cell_type": "markdown",
   "metadata": {},
   "source": [
    "![](v1_mt_dai.png)"
   ]
  },
  {
   "cell_type": "markdown",
   "metadata": {},
   "source": [
    "## Granger Causality Value between V1 and V4 all vertices time courses for ASD and NT"
   ]
  },
  {
   "cell_type": "markdown",
   "metadata": {},
   "source": [
    "NT | ASD\n",
    "- | -\n",
    "![alt](all_v1_v4_nt_vert.png) | ![alt](all_v1_v4_asd_vert.png)"
   ]
  },
  {
   "cell_type": "markdown",
   "metadata": {},
   "source": [
    "## Directed Asymmetry Index between NT and ASD for V1-V4 connectivity between all vertices time courses \n",
    "#### DAI > 0 indicates feedforward Granger causality influence and values < 0 indicate feedback influence"
   ]
  },
  {
   "cell_type": "markdown",
   "metadata": {},
   "source": [
    "![](v1_v4_dai.png)"
   ]
  }
 ],
 "metadata": {
  "kernelspec": {
   "display_name": "Python 3",
   "language": "python",
   "name": "python3"
  },
  "language_info": {
   "codemirror_mode": {
    "name": "ipython",
    "version": 3
   },
   "file_extension": ".py",
   "mimetype": "text/x-python",
   "name": "python",
   "nbconvert_exporter": "python",
   "pygments_lexer": "ipython3",
   "version": "3.7.7"
  }
 },
 "nbformat": 4,
 "nbformat_minor": 4
}
