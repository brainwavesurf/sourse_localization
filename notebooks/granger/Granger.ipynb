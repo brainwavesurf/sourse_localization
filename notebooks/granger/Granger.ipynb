{
 "cells": [
  {
   "cell_type": "markdown",
   "metadata": {},
   "source": [
    "## Granger Causality Value between V1 and MT averaged time courses for ASD and NT"
   ]
  },
  {
   "cell_type": "markdown",
   "metadata": {},
   "source": [
    "NT | ASD\n",
    "- | -\n",
    "![alt](all_v1_mt_avg_new_package_nt.png) | ![alt](all_v1_mt_avg_new_package_asd.png)"
   ]
  },
  {
   "cell_type": "markdown",
   "metadata": {},
   "source": [
    "## Granger Causality Value between V1 and V4 averaged time courses for ASD and NT"
   ]
  },
  {
   "cell_type": "markdown",
   "metadata": {},
   "source": [
    "NT | ASD\n",
    "- | -\n",
    "![alt](all_v1_v4_avg_new_package_nt.png) | ![alt](all_v1_v4_avg_new_package_asd.png)"
   ]
  },
  {
   "cell_type": "code",
   "execution_count": null,
   "metadata": {},
   "outputs": [],
   "source": []
  }
 ],
 "metadata": {
  "kernelspec": {
   "display_name": "Python 3",
   "language": "python",
   "name": "python3"
  },
  "language_info": {
   "codemirror_mode": {
    "name": "ipython",
    "version": 3
   },
   "file_extension": ".py",
   "mimetype": "text/x-python",
   "name": "python",
   "nbconvert_exporter": "python",
   "pygments_lexer": "ipython3",
   "version": "3.7.7"
  }
 },
 "nbformat": 4,
 "nbformat_minor": 4
}
