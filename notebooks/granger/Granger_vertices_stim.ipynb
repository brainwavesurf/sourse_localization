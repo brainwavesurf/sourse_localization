{
 "cells": [
  {
   "cell_type": "markdown",
   "metadata": {},
   "source": [
    "## Granger Causality Values between V1 and MT all vertices time courses for ASD and NT in 3 conditions (slow, medium, fast)"
   ]
  },
  {
   "cell_type": "markdown",
   "metadata": {},
   "source": [
    "NT_slow | ASD_slow\n",
    "- | -\n",
    "![alt](all_subj_v1_mt_nt_slow.png) | ![alt](all_subj_v1_mt_asd_slow.png)"
   ]
  },
  {
   "cell_type": "markdown",
   "metadata": {},
   "source": [
    "NT_medium | ASD_medium\n",
    "- | -\n",
    "![alt](all_subj_v1_mt_nt_med.png) | ![alt](all_subj_v1_mt_asd_med.png)"
   ]
  },
  {
   "cell_type": "markdown",
   "metadata": {},
   "source": [
    "NT_fast | ASD_fast\n",
    "- | -\n",
    "![alt](all_subj_v1_mt_nt_fast.png) | ![alt](all_subj_v1_mt_asd_fast.png)"
   ]
  },
  {
   "cell_type": "markdown",
   "metadata": {},
   "source": [
    "## Directed Asymmetry Index between NT and ASD for V1-MT connectivity between all vertices time courses in 3 conditions (slow, medium, fast)\n",
    "#### DAI > 0 indicates feedforward Granger causality influence and values < 0 indicate feedback influence"
   ]
  },
  {
   "cell_type": "markdown",
   "metadata": {},
   "source": [
    "slow | medium | fast\n",
    "- | - | -\n",
    "![alt](v1_mt_dai_slow.png) | ![alt](v1_mt_dai_med.png) | ![alt](v1_mt_dai_fast.png)"
   ]
  },
  {
   "cell_type": "code",
   "execution_count": null,
   "metadata": {},
   "outputs": [],
   "source": []
  }
 ],
 "metadata": {
  "kernelspec": {
   "display_name": "Python 3",
   "language": "python",
   "name": "python3"
  },
  "language_info": {
   "codemirror_mode": {
    "name": "ipython",
    "version": 3
   },
   "file_extension": ".py",
   "mimetype": "text/x-python",
   "name": "python",
   "nbconvert_exporter": "python",
   "pygments_lexer": "ipython3",
   "version": "3.7.7"
  }
 },
 "nbformat": 4,
 "nbformat_minor": 4
}
